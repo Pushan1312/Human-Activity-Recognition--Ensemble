{
 "cells": [
  {
   "cell_type": "code",
   "execution_count": 36,
   "id": "0d12763b",
   "metadata": {},
   "outputs": [],
   "source": [
    "import numpy as np\n",
    "import os\n",
    "from sympy.solvers import solve\n",
    "from sympy import Symbol\n",
    "from sklearn.metrics import accuracy_score"
   ]
  },
  {
   "cell_type": "code",
   "execution_count": 37,
   "id": "3834eb4e",
   "metadata": {},
   "outputs": [
    {
     "name": "stdout",
     "output_type": "stream",
     "text": [
      "(4259, 12)\n",
      "(4259, 12)\n",
      "(4259, 12)\n"
     ]
    }
   ],
   "source": [
    "model_1_score=np.load(\"C:\\\\Users\\\\User\\\\Desktop\\\\Sugeno Integral\\\\Confidence Score\\\\PAMPA2\\\\PAMAP_incep.npy\")\n",
    "model_2_score=np.load(\"C:\\\\Users\\\\User\\\\Desktop\\\\Sugeno Integral\\\\Confidence Score\\\\PAMPA2\\\\PAMAP_resnet.npy\")\n",
    "model_3_score=np.load(\"C:\\\\Users\\\\User\\\\Desktop\\\\Sugeno Integral\\\\Confidence Score\\\\PAMPA2\\\\PAMAP_cus.npy\")\n",
    "print(model_1_score.shape)\n",
    "print(model_2_score.shape)\n",
    "print(model_3_score.shape)"
   ]
  },
  {
   "cell_type": "code",
   "execution_count": 38,
   "id": "2d76ff08",
   "metadata": {},
   "outputs": [
    {
     "name": "stdout",
     "output_type": "stream",
     "text": [
      "(4259,)\n"
     ]
    }
   ],
   "source": [
    "y_test=np.load('C:\\\\Users\\\\User\\\\Desktop\\\\Sugeno Integral\\\\Confidence Score\\\\PAMPA2\\\\PAMAP_y_test.npy')\n",
    "#y_test=test_data['y_test']\n",
    "print(y_test.shape)"
   ]
  },
  {
   "cell_type": "code",
   "execution_count": 39,
   "id": "0b096c1e",
   "metadata": {},
   "outputs": [
    {
     "data": {
      "text/plain": [
       "array([0.07289543, 0.07289543, 0.07289543, 0.07289543, 0.07289543,\n",
       "       0.07289543, 0.07289543, 0.07289543, 0.19815029, 0.07289543,\n",
       "       0.07289543, 0.07289543], dtype=float32)"
      ]
     },
     "execution_count": 39,
     "metadata": {},
     "output_type": "execute_result"
    }
   ],
   "source": [
    "model_1_score[0]"
   ]
  },
  {
   "cell_type": "code",
   "execution_count": 40,
   "id": "7fa12698",
   "metadata": {},
   "outputs": [
    {
     "data": {
      "text/plain": [
       "8"
      ]
     },
     "execution_count": 40,
     "metadata": {},
     "output_type": "execute_result"
    }
   ],
   "source": [
    "np.argmax(model_1_score[0])"
   ]
  },
  {
   "cell_type": "code",
   "execution_count": 41,
   "id": "19c17ddf",
   "metadata": {},
   "outputs": [
    {
     "data": {
      "text/plain": [
       "0.19815029"
      ]
     },
     "execution_count": 41,
     "metadata": {},
     "output_type": "execute_result"
    }
   ],
   "source": [
    "model_1_score[0][np.argmax(model_1_score[0])]"
   ]
  },
  {
   "cell_type": "code",
   "execution_count": 42,
   "id": "599836e7",
   "metadata": {},
   "outputs": [
    {
     "data": {
      "text/plain": [
       "array([0.07289544, 0.07289544, 0.07289544, 0.07289544, 0.07289544,\n",
       "       0.07289555, 0.07289544, 0.07289544, 0.19815004, 0.07289544,\n",
       "       0.07289544, 0.07289544], dtype=float32)"
      ]
     },
     "execution_count": 42,
     "metadata": {},
     "output_type": "execute_result"
    }
   ],
   "source": [
    "model_2_score[0]"
   ]
  },
  {
   "cell_type": "code",
   "execution_count": 43,
   "id": "d4b3130b",
   "metadata": {},
   "outputs": [
    {
     "data": {
      "text/plain": [
       "8"
      ]
     },
     "execution_count": 43,
     "metadata": {},
     "output_type": "execute_result"
    }
   ],
   "source": [
    "np.argmax(model_2_score[0])"
   ]
  },
  {
   "cell_type": "code",
   "execution_count": 44,
   "id": "ad14cfe4",
   "metadata": {},
   "outputs": [
    {
     "data": {
      "text/plain": [
       "0.19815004"
      ]
     },
     "execution_count": 44,
     "metadata": {},
     "output_type": "execute_result"
    }
   ],
   "source": [
    "model_2_score[0][np.argmax(model_2_score[0])]"
   ]
  },
  {
   "cell_type": "code",
   "execution_count": 45,
   "id": "0379c6d0",
   "metadata": {},
   "outputs": [
    {
     "data": {
      "text/plain": [
       "array([0.07289659, 0.07289659, 0.07289667, 0.07289659, 0.07289659,\n",
       "       0.07289661, 0.07289659, 0.07289669, 0.19812815, 0.07290571,\n",
       "       0.07289661, 0.07289659], dtype=float32)"
      ]
     },
     "execution_count": 45,
     "metadata": {},
     "output_type": "execute_result"
    }
   ],
   "source": [
    "model_3_score[0]"
   ]
  },
  {
   "cell_type": "code",
   "execution_count": 46,
   "id": "de28f973",
   "metadata": {},
   "outputs": [
    {
     "data": {
      "text/plain": [
       "8"
      ]
     },
     "execution_count": 46,
     "metadata": {},
     "output_type": "execute_result"
    }
   ],
   "source": [
    "np.argmax(model_3_score[0])"
   ]
  },
  {
   "cell_type": "code",
   "execution_count": 47,
   "id": "a17555af",
   "metadata": {},
   "outputs": [
    {
     "data": {
      "text/plain": [
       "0.0728955"
      ]
     },
     "execution_count": 47,
     "metadata": {},
     "output_type": "execute_result"
    }
   ],
   "source": [
    "model_3_score[6][np.argmax(model_3_score[0])]"
   ]
  },
  {
   "cell_type": "code",
   "execution_count": 48,
   "id": "6e3fed2f",
   "metadata": {},
   "outputs": [
    {
     "data": {
      "text/plain": [
       "(0.2054, 0.1228, 0.154)"
      ]
     },
     "execution_count": 48,
     "metadata": {},
     "output_type": "execute_result"
    }
   ],
   "source": [
    "0.2054, 0.1228, 0.1540"
   ]
  },
  {
   "cell_type": "code",
   "execution_count": 49,
   "id": "52fcc0b7",
   "metadata": {},
   "outputs": [
    {
     "data": {
      "text/plain": [
       "(0.1674446621543686, 0.0403671679702553, 0.013909899823040583)"
      ]
     },
     "execution_count": 49,
     "metadata": {},
     "output_type": "execute_result"
    }
   ],
   "source": [
    "0.14609229890874442, 0.05658495837338762, 0.017328887663773163\n",
    "0.17690309156082895, 0.03721539339902313, 0.01871256701027113\n",
    "0.1674446621543686, 0.0403671679702553, 0.013909899823040583"
   ]
  },
  {
   "cell_type": "code",
   "execution_count": 51,
   "id": "9bb59232",
   "metadata": {},
   "outputs": [],
   "source": [
    "fuzzy_measure=np.array([0.17684979829991054, 0.14428416688635626, 0.3786092717685692])"
   ]
  },
  {
   "cell_type": "code",
   "execution_count": 52,
   "id": "c93f3993",
   "metadata": {},
   "outputs": [
    {
     "data": {
      "text/plain": [
       "[-17.0494500803652, 0.0, 1.82292135461363]"
      ]
     },
     "execution_count": 52,
     "metadata": {},
     "output_type": "execute_result"
    }
   ],
   "source": [
    "l=Symbol('l',real=True)\n",
    "lam=solve( ((1+l*fuzzy_measure[0])*(1+l*fuzzy_measure[1])*(1+l*fuzzy_measure[2]))-(1+l) , l )\n",
    "lam"
   ]
  },
  {
   "cell_type": "code",
   "execution_count": 53,
   "id": "1f29a737",
   "metadata": {},
   "outputs": [
    {
     "data": {
      "text/plain": [
       "1.8229213546136338"
      ]
     },
     "execution_count": 53,
     "metadata": {},
     "output_type": "execute_result"
    }
   ],
   "source": [
    "lam=float(lam[2])\n",
    "lam"
   ]
  },
  {
   "cell_type": "code",
   "execution_count": 54,
   "id": "aaf7a005",
   "metadata": {},
   "outputs": [
    {
     "data": {
      "text/plain": [
       "(4259, 12)"
      ]
     },
     "execution_count": 54,
     "metadata": {},
     "output_type": "execute_result"
    }
   ],
   "source": [
    "fuzzy_score=np.zeros(shape=model_1_score.shape, dtype=float)\n",
    "fuzzy_score.shape"
   ]
  },
  {
   "cell_type": "code",
   "execution_count": 55,
   "id": "47186f64",
   "metadata": {},
   "outputs": [],
   "source": [
    "for i in range(fuzzy_score.shape[0]):\n",
    "    for j in range(12):\n",
    "        \n",
    "        f_score=np.asarray([ model_1_score[i][j], model_2_score[i][j], model_3_score[i][j] ])\n",
    "        \n",
    "        permute_index=np.argsort(f_score)\n",
    "        f_score_permuted=f_score[permute_index]\n",
    "        fuzzy_measure_permuted=fuzzy_measure[permute_index]\n",
    "        \n",
    "        A_0=1.0\n",
    "        A_1=( fuzzy_measure_permuted[1] + fuzzy_measure_permuted[2] + lam*fuzzy_measure_permuted[1]*fuzzy_measure_permuted[2] )\n",
    "        A_2=fuzzy_measure_permuted[2]\n",
    "        #print(\"The A_i values are {} , {}, {}\".format(A_0,A_1,A_2))\n",
    "        \n",
    "        sugeno_score=max([ min(f_score_permuted[0],A_0), min(f_score_permuted[1],A_1), min(f_score_permuted[2],A_2) ])\n",
    "        \n",
    "        fuzzy_score[i][j]=sugeno_score"
   ]
  },
  {
   "cell_type": "code",
   "execution_count": 33,
   "id": "85ce82d3",
   "metadata": {},
   "outputs": [],
   "source": [
    "fuzzy_y_pred=np.argmax(fuzzy_score,axis=1)"
   ]
  },
  {
   "cell_type": "code",
   "execution_count": 56,
   "id": "be52bea9",
   "metadata": {},
   "outputs": [
    {
     "data": {
      "text/plain": [
       "array([ 1,  2,  3,  4,  5,  6,  7, 12, 13, 16, 17, 24], dtype=int64)"
      ]
     },
     "execution_count": 56,
     "metadata": {},
     "output_type": "execute_result"
    }
   ],
   "source": [
    "classes_=np.load('C:\\\\Users\\\\User\\\\Desktop\\\\Sugeno Integral\\\\Confidence Score\\\\PAMPA2\\\\PAMAP_label_classes.npy')\n",
    "classes_"
   ]
  },
  {
   "cell_type": "code",
   "execution_count": 57,
   "id": "97412cf6",
   "metadata": {},
   "outputs": [
    {
     "data": {
      "text/plain": [
       "98.4033810753698"
      ]
     },
     "execution_count": 57,
     "metadata": {},
     "output_type": "execute_result"
    },
    {
     "data": {
      "image/png": "[encoded data removed]",
      "text/plain": [
       "<Figure size 504x504 with 1 Axes>"
      ]
     },
     "metadata": {
      "needs_background": "light"
     },
     "output_type": "display_data"
    }
   ],
   "source": [
    "\n",
    "from mlxtend.plotting import plot_confusion_matrix\n",
    "from sklearn.metrics import confusion_matrix\n",
    "fuzzy_y_pred = np.argmax(fuzzy_score, axis=-1)\n",
    "mat = confusion_matrix(y_test, fuzzy_y_pred)\n",
    "plot_confusion_matrix(conf_mat=mat, class_names=classes_, show_normed=True, figsize=(7,7))\n",
    "accuracy_score(y_test,fuzzy_y_pred)*100"
   ]
  },
  {
   "cell_type": "code",
   "execution_count": 35,
   "id": "227869f4",
   "metadata": {},
   "outputs": [
    {
     "data": {
      "text/plain": [
       "array([[325,   0,   1,   0,   0,   0,   0,   0,   0,   4,   0,   1],\n",
       "       [  0, 417,   5,   0,   0,   0,   0,   0,   0,   0,   0,   0],\n",
       "       [  0,   3, 515,   0,   0,   0,   0,   0,   1,   0,   5,   0],\n",
       "       [  0,   1,   0, 558,   0,   0,   0,   0,   2,   1,   0,   0],\n",
       "       [  0,   0,   0,   1, 270,   0,   1,   0,   0,   3,   0,   0],\n",
       "       [  0,   0,   0,   0,   1, 366,   0,   1,   1,   1,   0,   0],\n",
       "       [  0,   0,   0,   1,   1,   0, 373,   0,   0,   0,   0,   0],\n",
       "       [  0,   0,   1,   1,   0,   0,   0, 120,   1,   0,   0,   0],\n",
       "       [  0,   0,   0,   1,   0,   0,   0,   4, 147,   0,   0,   0],\n",
       "       [  0,   1,   0,   1,   0,   2,   1,   0,   4, 419,   1,   0],\n",
       "       [  0,   0,  11,   0,   0,   0,   0,   0,   0,   3, 604,   0],\n",
       "       [  0,   1,   0,   0,   0,   0,   0,   0,   0,   0,   0,  77]],\n",
       "      dtype=int64)"
      ]
     },
     "execution_count": 35,
     "metadata": {},
     "output_type": "execute_result"
    }
   ],
   "source": [
    "mat"
   ]
  }
 ],
 "metadata": {
  "kernelspec": {
   "display_name": "Python 3 (ipykernel)",
   "language": "python",
   "name": "python3"
  },
  "language_info": {
   "codemirror_mode": {
    "name": "ipython",
    "version": 3
   },
   "file_extension": ".py",
   "mimetype": "text/x-python",
   "name": "python",
   "nbconvert_exporter": "python",
   "pygments_lexer": "ipython3",
   "version": "3.8.8"
  }
 },
 "nbformat": 4,
 "nbformat_minor": 5
}
