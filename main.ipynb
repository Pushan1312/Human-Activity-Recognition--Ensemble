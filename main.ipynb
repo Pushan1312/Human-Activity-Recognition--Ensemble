{
 "cells": [
  {
   "cell_type": "code",
   "execution_count": 74,
   "metadata": {},
   "outputs": [],
   "source": [
    "import tensorflow as tf\n",
    "from keras.layers import Dense, LSTM, Conv1D, BatchNormalization, Flatten, Dropout, Activation, Bidirectional, MaxPooling1D, GlobalAveragePooling1D, Add\n",
    "from keras.models import Model, Sequential\n",
    "import numpy as np\n",
    "import pandas as pd\n",
    "import matplotlib.pyplot as py\n",
    "import os\n"
   ]
  },
  {
   "cell_type": "code",
   "execution_count": null,
   "metadata": {},
   "outputs": [],
   "source": [
    "\n",
    "file = open('WISDM_ar_v1.1/WISDM_ar_v1.1_raw.txt')\n",
    "lines = file.readlines()\n",
    "processed_list = []\n",
    "for i, line in enumerate(lines):\n",
    "    try:\n",
    "        line = line.split(',')\n",
    "        last = line [5].split(';')[0]\n",
    "        last = last.strip()\n",
    "        if last == '':\n",
    "            break;\n",
    "        temp = [line[0], line[1], line[2], line[3], line[4], last]\n",
    "        processed_list.append(temp)\n",
    "    except:\n",
    "        print('Error at line: ',i)\n",
    "        "
   ]
  },
  {
   "cell_type": "code",
   "execution_count": 78,
   "metadata": {},
   "outputs": [],
   "source": [
    "columns = ['user', 'activity', 'time', 'x', 'y', 'z']"
   ]
  },
  {
   "cell_type": "code",
   "execution_count": null,
   "metadata": {},
   "outputs": [],
   "source": [
    "data = pd.DataFrame(data = processed_list, columns= columns)\n",
    "data.head()"
   ]
  },
  {
   "cell_type": "code",
   "execution_count": null,
   "metadata": {},
   "outputs": [],
   "source": [
    "data['activity'].value_counts()"
   ]
  },
  {
   "cell_type": "code",
   "execution_count": 82,
   "metadata": {},
   "outputs": [],
   "source": [
    "data = data.drop(['user','time'], axis=1)"
   ]
  },
  {
   "cell_type": "code",
   "execution_count": 83,
   "metadata": {},
   "outputs": [
    {
     "data": {
      "text/html": [
       "<div>\n",
       "<style scoped>\n",
       "    .dataframe tbody tr th:only-of-type {\n",
       "        vertical-align: middle;\n",
       "    }\n",
       "\n",
       "    .dataframe tbody tr th {\n",
       "        vertical-align: top;\n",
       "    }\n",
       "\n",
       "    .dataframe thead th {\n",
       "        text-align: right;\n",
       "    }\n",
       "</style>\n",
       "<table border=\"1\" class=\"dataframe\">\n",
       "  <thead>\n",
       "    <tr style=\"text-align: right;\">\n",
       "      <th></th>\n",
       "      <th>activity</th>\n",
       "      <th>x</th>\n",
       "      <th>y</th>\n",
       "      <th>z</th>\n",
       "    </tr>\n",
       "  </thead>\n",
       "  <tbody>\n",
       "    <tr>\n",
       "      <th>0</th>\n",
       "      <td>Jogging</td>\n",
       "      <td>-0.6946377</td>\n",
       "      <td>12.680544</td>\n",
       "      <td>0.50395286</td>\n",
       "    </tr>\n",
       "    <tr>\n",
       "      <th>1</th>\n",
       "      <td>Jogging</td>\n",
       "      <td>5.012288</td>\n",
       "      <td>11.264028</td>\n",
       "      <td>0.95342433</td>\n",
       "    </tr>\n",
       "    <tr>\n",
       "      <th>2</th>\n",
       "      <td>Jogging</td>\n",
       "      <td>4.903325</td>\n",
       "      <td>10.882658</td>\n",
       "      <td>-0.08172209</td>\n",
       "    </tr>\n",
       "    <tr>\n",
       "      <th>3</th>\n",
       "      <td>Jogging</td>\n",
       "      <td>-0.61291564</td>\n",
       "      <td>18.496431</td>\n",
       "      <td>3.0237172</td>\n",
       "    </tr>\n",
       "    <tr>\n",
       "      <th>4</th>\n",
       "      <td>Jogging</td>\n",
       "      <td>-1.1849703</td>\n",
       "      <td>12.108489</td>\n",
       "      <td>7.205164</td>\n",
       "    </tr>\n",
       "  </tbody>\n",
       "</table>\n",
       "</div>"
      ],
      "text/plain": [
       "  activity            x          y            z\n",
       "0  Jogging   -0.6946377  12.680544   0.50395286\n",
       "1  Jogging     5.012288  11.264028   0.95342433\n",
       "2  Jogging     4.903325  10.882658  -0.08172209\n",
       "3  Jogging  -0.61291564  18.496431    3.0237172\n",
       "4  Jogging   -1.1849703  12.108489     7.205164"
      ]
     },
     "execution_count": 83,
     "metadata": {},
     "output_type": "execute_result"
    }
   ],
   "source": [
    "data.head()"
   ]
  },
  {
   "cell_type": "markdown",
   "metadata": {},
   "source": [
    "### Balancing - all data labels with same no. of entries"
   ]
  },
  {
   "cell_type": "markdown",
   "metadata": {},
   "source": [
    "### Standarizing the data- to reduce the variance"
   ]
  },
  {
   "cell_type": "code",
   "execution_count": 84,
   "metadata": {},
   "outputs": [
    {
     "data": {
      "text/html": [
       "<div>\n",
       "<style scoped>\n",
       "    .dataframe tbody tr th:only-of-type {\n",
       "        vertical-align: middle;\n",
       "    }\n",
       "\n",
       "    .dataframe tbody tr th {\n",
       "        vertical-align: top;\n",
       "    }\n",
       "\n",
       "    .dataframe thead th {\n",
       "        text-align: right;\n",
       "    }\n",
       "</style>\n",
       "<table border=\"1\" class=\"dataframe\">\n",
       "  <thead>\n",
       "    <tr style=\"text-align: right;\">\n",
       "      <th></th>\n",
       "      <th>activity</th>\n",
       "      <th>x</th>\n",
       "      <th>y</th>\n",
       "      <th>z</th>\n",
       "      <th>label</th>\n",
       "    </tr>\n",
       "  </thead>\n",
       "  <tbody>\n",
       "    <tr>\n",
       "      <th>2000</th>\n",
       "      <td>Downstairs</td>\n",
       "      <td>-0.5720546</td>\n",
       "      <td>9.615966</td>\n",
       "      <td>-0.14982383</td>\n",
       "      <td>0</td>\n",
       "    </tr>\n",
       "    <tr>\n",
       "      <th>2001</th>\n",
       "      <td>Downstairs</td>\n",
       "      <td>-1.8387469</td>\n",
       "      <td>6.742072</td>\n",
       "      <td>1.334794</td>\n",
       "      <td>0</td>\n",
       "    </tr>\n",
       "    <tr>\n",
       "      <th>2002</th>\n",
       "      <td>Downstairs</td>\n",
       "      <td>2.7649305</td>\n",
       "      <td>7.668256</td>\n",
       "      <td>1.56634</td>\n",
       "      <td>0</td>\n",
       "    </tr>\n",
       "    <tr>\n",
       "      <th>2003</th>\n",
       "      <td>Downstairs</td>\n",
       "      <td>-2.4108016</td>\n",
       "      <td>8.689782</td>\n",
       "      <td>4.4810944</td>\n",
       "      <td>0</td>\n",
       "    </tr>\n",
       "    <tr>\n",
       "      <th>2004</th>\n",
       "      <td>Downstairs</td>\n",
       "      <td>-2.6832085</td>\n",
       "      <td>10.147159</td>\n",
       "      <td>6.5922484</td>\n",
       "      <td>0</td>\n",
       "    </tr>\n",
       "    <tr>\n",
       "      <th>...</th>\n",
       "      <td>...</td>\n",
       "      <td>...</td>\n",
       "      <td>...</td>\n",
       "      <td>...</td>\n",
       "      <td>...</td>\n",
       "    </tr>\n",
       "    <tr>\n",
       "      <th>343411</th>\n",
       "      <td>Walking</td>\n",
       "      <td>0.31</td>\n",
       "      <td>10.73</td>\n",
       "      <td>0.040861044</td>\n",
       "      <td>5</td>\n",
       "    </tr>\n",
       "    <tr>\n",
       "      <th>343412</th>\n",
       "      <td>Walking</td>\n",
       "      <td>2.76</td>\n",
       "      <td>10.95</td>\n",
       "      <td>0.84446156</td>\n",
       "      <td>5</td>\n",
       "    </tr>\n",
       "    <tr>\n",
       "      <th>343413</th>\n",
       "      <td>Walking</td>\n",
       "      <td>0.8</td>\n",
       "      <td>10.15</td>\n",
       "      <td>1.334794</td>\n",
       "      <td>5</td>\n",
       "    </tr>\n",
       "    <tr>\n",
       "      <th>343414</th>\n",
       "      <td>Walking</td>\n",
       "      <td>-1.57</td>\n",
       "      <td>8.69</td>\n",
       "      <td>1.4165162</td>\n",
       "      <td>5</td>\n",
       "    </tr>\n",
       "    <tr>\n",
       "      <th>343415</th>\n",
       "      <td>Walking</td>\n",
       "      <td>-2.56</td>\n",
       "      <td>8.58</td>\n",
       "      <td>1.879608</td>\n",
       "      <td>5</td>\n",
       "    </tr>\n",
       "  </tbody>\n",
       "</table>\n",
       "<p>341416 rows × 5 columns</p>\n",
       "</div>"
      ],
      "text/plain": [
       "          activity           x          y            z  label\n",
       "2000    Downstairs  -0.5720546   9.615966  -0.14982383      0\n",
       "2001    Downstairs  -1.8387469   6.742072     1.334794      0\n",
       "2002    Downstairs   2.7649305   7.668256      1.56634      0\n",
       "2003    Downstairs  -2.4108016   8.689782    4.4810944      0\n",
       "2004    Downstairs  -2.6832085  10.147159    6.5922484      0\n",
       "...            ...         ...        ...          ...    ...\n",
       "343411     Walking        0.31      10.73  0.040861044      5\n",
       "343412     Walking        2.76      10.95   0.84446156      5\n",
       "343413     Walking         0.8      10.15     1.334794      5\n",
       "343414     Walking       -1.57       8.69    1.4165162      5\n",
       "343415     Walking       -2.56       8.58     1.879608      5\n",
       "\n",
       "[341416 rows x 5 columns]"
      ]
     },
     "execution_count": 84,
     "metadata": {},
     "output_type": "execute_result"
    }
   ],
   "source": [
    "from sklearn.preprocessing import LabelEncoder, StandardScaler\n",
    "label = LabelEncoder()\n",
    "data['label'] = label.fit_transform(data['activity'])\n",
    "data[2000:]"
   ]
  },
  {
   "cell_type": "code",
   "execution_count": null,
   "metadata": {},
   "outputs": [],
   "source": [
    "x_train = data[['x', 'y', 'z']]\n",
    "y_train = data ['label']\n",
    "scaler = StandardScaler()\n",
    "x_train = scaler.fit_transform(x_train)\n",
    "X_train_sc = pd.DataFrame(data= x_train, columns=['x', 'y', 'z'])\n",
    "X_train_sc['label'] = y_train.values\n",
    "X_train_sc\n"
   ]
  },
  {
   "cell_type": "markdown",
   "metadata": {},
   "source": [
    "### Windowing\n"
   ]
  },
  {
   "cell_type": "code",
   "execution_count": 87,
   "metadata": {},
   "outputs": [],
   "source": [
    "import scipy.stats as stats\n",
    "window_size = 128\n",
    "hop_size = 64\n",
    "def get_window (df, frame_size, hop_size, label):\n",
    "    N_features = 3\n",
    "    frame=[]\n",
    "    labels = []\n",
    "    for i in range(0, len(X_train_sc)-frame_size, hop_size):\n",
    "        x = X_train_sc['x'].values[i:i+frame_size]\n",
    "        y = X_train_sc['y'].values[i:i+frame_size]\n",
    "        z = X_train_sc['z'].values[i:i+frame_size]\n",
    "\n",
    "        label = stats.mode(X_train_sc['label'][i:i+frame_size])[0][0] #maximum labels in the window\n",
    "        frame.append([x,y,z])\n",
    "        labels.append(label)\n",
    "    frame = np.asarray(frame).reshape(-1, frame_size, N_features)\n",
    "    labels = np.asarray(labels)\n",
    "\n",
    "    return frame, labels\n"
   ]
  },
  {
   "cell_type": "code",
   "execution_count": 88,
   "metadata": {},
   "outputs": [],
   "source": [
    "x, y = get_window(X_train_sc, window_size, hop_size, y_train)"
   ]
  },
  {
   "cell_type": "code",
   "execution_count": 89,
   "metadata": {},
   "outputs": [
    {
     "data": {
      "text/plain": [
       "((3754, 128, 3), (1610, 128, 3))"
      ]
     },
     "execution_count": 89,
     "metadata": {},
     "output_type": "execute_result"
    }
   ],
   "source": [
    "from sklearn.model_selection import train_test_split\n",
    "x_tr, x_test, y_tr, y_test = train_test_split(x, y, random_state=0, stratify= y, test_size = 0.3)\n",
    "x_tr.shape, x_test.shape"
   ]
  },
  {
   "cell_type": "markdown",
   "metadata": {},
   "source": [
    "custom model"
   ]
  },
  {
   "cell_type": "code",
   "execution_count": 96,
   "metadata": {},
   "outputs": [],
   "source": [
    "model = Sequential()\n",
    "model.add(Conv1D(64, (4), padding= 'same', input_shape = x_tr[0].shape))\n",
    "model.add(Dropout(0.2))\n",
    "\n",
    "\n",
    "model.add(Conv1D(128, (4), padding='same', activation = 'relu'))\n",
    "model.add(Dropout(0.2))\n",
    "model.add(Conv1D(256, (4), activation= 'relu'))\n",
    "model.add(Dropout(0.2))\n",
    "model.add(Bidirectional(LSTM(128, return_sequences= True)))\n",
    "model.add(Bidirectional(LSTM(64, return_sequences= True)))\n",
    "\n",
    "model.add(Flatten())\n",
    "\n",
    "model.add(Dense(64, activation='relu'))\n",
    "model.add(Dense(6, activation='softmax'))\n",
    "\n"
   ]
  },
  {
   "cell_type": "code",
   "execution_count": 97,
   "metadata": {},
   "outputs": [
    {
     "name": "stdout",
     "output_type": "stream",
     "text": [
      "Model: \"sequential_3\"\n",
      "_________________________________________________________________\n",
      " Layer (type)                Output Shape              Param #   \n",
      "=================================================================\n",
      " conv1d_36 (Conv1D)          (None, 128, 64)           832       \n",
      "                                                                 \n",
      " dropout_6 (Dropout)         (None, 128, 64)           0         \n",
      "                                                                 \n",
      " conv1d_37 (Conv1D)          (None, 128, 128)          32896     \n",
      "                                                                 \n",
      " dropout_7 (Dropout)         (None, 128, 128)          0         \n",
      "                                                                 \n",
      " conv1d_38 (Conv1D)          (None, 125, 256)          131328    \n",
      "                                                                 \n",
      " dropout_8 (Dropout)         (None, 125, 256)          0         \n",
      "                                                                 \n",
      " bidirectional_4 (Bidirectio  (None, 125, 256)         394240    \n",
      " nal)                                                            \n",
      "                                                                 \n",
      " bidirectional_5 (Bidirectio  (None, 125, 128)         164352    \n",
      " nal)                                                            \n",
      "                                                                 \n",
      " flatten_4 (Flatten)         (None, 16000)             0         \n",
      "                                                                 \n",
      " dense_8 (Dense)             (None, 64)                1024064   \n",
      "                                                                 \n",
      " dense_9 (Dense)             (None, 6)                 390       \n",
      "                                                                 \n",
      "=================================================================\n",
      "Total params: 1,748,102\n",
      "Trainable params: 1,748,102\n",
      "Non-trainable params: 0\n",
      "_________________________________________________________________\n"
     ]
    }
   ],
   "source": [
    "model.summary()"
   ]
  },
  {
   "cell_type": "code",
   "execution_count": 98,
   "metadata": {},
   "outputs": [],
   "source": [
    "model.compile(\n",
    "            loss = 'sparse_categorical_crossentropy',\n",
    "            metrics= ['accuracy'],\n",
    "            optimizer= tf.keras.optimizers.Adamax(learning_rate=0.001)\n",
    ")"
   ]
  },
  {
   "cell_type": "code",
   "execution_count": 99,
   "metadata": {},
   "outputs": [],
   "source": [
    "filepath = r'C:\\Users\\pusha\\OneDrive\\Documents\\housing_pred\\HAR_proj\\WISDM'\n",
    "model_checkpoint = tf.keras.callbacks.ModelCheckpoint(\"WISDM_custom.h5\", \n",
    "                                            monitor = 'val_loss',\n",
    "                                            save_best_only = True,\n",
    "                                            mode = 'auto',\n",
    "                                            save_freq = 'epoch'\n",
    ")"
   ]
  },
  {
   "cell_type": "code",
   "execution_count": null,
   "metadata": {},
   "outputs": [],
   "source": [
    "his = model.fit(\n",
    "        x_tr, y_tr,\n",
    "        epochs= 100,\n",
    "       validation_data= (x_test, y_test),\n",
    "       callbacks= [model_checkpoint]\n",
    ")"
   ]
  },
  {
   "cell_type": "markdown",
   "metadata": {},
   "source": [
    "VGG16\n"
   ]
  },
  {
   "cell_type": "code",
   "execution_count": 101,
   "metadata": {},
   "outputs": [],
   "source": [
    "model1 = Sequential()\n",
    "model1.add(Conv1D(64, (3), padding= 'same', input_shape = x_tr[0].shape, activation = 'elu'))\n",
    "model1.add(Conv1D(64, (3), padding= 'same', activation = 'elu'))\n",
    "model1.add(MaxPooling1D(pool_size=4, strides=2))\n",
    "model1.add(Conv1D(128, (3), padding = 'same', activation = 'elu'))\n",
    "model1.add(Conv1D(128, (3), padding = 'same', activation = 'elu'))\n",
    "model1.add(MaxPooling1D(pool_size=4, strides=2))\n",
    "model1.add(Conv1D(256, (3), padding = 'same', activation = 'elu'))\n",
    "model1.add(Conv1D(256, (3), padding = 'same', activation = 'elu'))\n",
    "model1.add(Conv1D(256, (3), padding = 'same', activation = 'elu'))\n",
    "model1.add(MaxPooling1D(pool_size=4, strides=2))\n",
    "model1.add(Conv1D(512, (3), padding = 'same', activation = 'elu'))\n",
    "model1.add(Conv1D(512, (3), padding = 'same', activation = 'elu'))\n",
    "model1.add(Conv1D(512, (3), padding = 'same', activation = 'elu'))\n",
    "model1.add(MaxPooling1D(pool_size=4, strides=2))\n",
    "model1.add(Flatten())\n",
    "model1.add(Dense(256, activation='elu'))\n",
    "model1.add(Dense(128, activation='elu'))\n",
    "model1.add(Dense(6, activation='softmax'))"
   ]
  },
  {
   "cell_type": "code",
   "execution_count": 102,
   "metadata": {},
   "outputs": [],
   "source": [
    "model1.compile(\n",
    "            loss = 'sparse_categorical_crossentropy',\n",
    "            metrics= ['accuracy'],\n",
    "            optimizer= tf.keras.optimizers.Adamax(learning_rate=0.000446)\n",
    ")"
   ]
  },
  {
   "cell_type": "code",
   "execution_count": 103,
   "metadata": {},
   "outputs": [],
   "source": [
    "filepath = r'C:\\Users\\pusha\\OneDrive\\Documents\\housing_pred\\HAR_proj\\WISDM'\n",
    "model_checkpoint_1 = tf.keras.callbacks.ModelCheckpoint(\"WISDM_VGG16.h5\", \n",
    "                                            monitor = 'val_loss',\n",
    "                                            save_best_only = True,\n",
    "                                            mode = 'auto',\n",
    "                                            save_freq = 'epoch'\n",
    ")"
   ]
  },
  {
   "cell_type": "code",
   "execution_count": null,
   "metadata": {},
   "outputs": [],
   "source": [
    "his1 = model1.fit(\n",
    "        x_tr, y_tr,\n",
    "        epochs= 100,\n",
    "       validation_data= (x_test, y_test),\n",
    "       callbacks= [model_checkpoint_1]\n",
    ")"
   ]
  },
  {
   "cell_type": "markdown",
   "metadata": {},
   "source": [
    "RESNET18"
   ]
  },
  {
   "cell_type": "code",
   "execution_count": 105,
   "metadata": {},
   "outputs": [],
   "source": [
    "class ResnetBlock(Model):\n",
    "    \"\"\"\n",
    "    A standard resnet block.\n",
    "    \"\"\"\n",
    "\n",
    "    def __init__(self, channels: int, down_sample=False):\n",
    "        \"\"\"\n",
    "        channels: same as number of convolution kernels\n",
    "        \"\"\"\n",
    "        super().__init__()\n",
    "\n",
    "        self.__channels = channels\n",
    "        self.__down_sample = down_sample\n",
    "        self.__strides = [2, 1] if down_sample else [1, 1]\n",
    "\n",
    "        KERNEL_SIZE = (3)\n",
    "        \n",
    "        INIT_SCHEME = \"he_normal\"\n",
    "\n",
    "        self.conv_1 = Conv1D(self.__channels, strides=self.__strides[0],\n",
    "                             kernel_size=KERNEL_SIZE, padding=\"same\", activation= 'elu')\n",
    "        self.bn_1 = BatchNormalization()\n",
    "        self.conv_2 = Conv1D(self.__channels, strides=self.__strides[1],\n",
    "                             kernel_size=KERNEL_SIZE, padding=\"same\", activation= 'elu')\n",
    "        self.bn_2 = BatchNormalization()\n",
    "        self.merge = Add()\n",
    "\n",
    "        if self.__down_sample:\n",
    "            \n",
    "            self.res_conv = Conv1D(\n",
    "                self.__channels, strides=2, kernel_size=(1), kernel_initializer=INIT_SCHEME, padding=\"same\")\n",
    "            self.res_bn = BatchNormalization()\n",
    "\n",
    "    def call(self, inputs):\n",
    "        res = inputs\n",
    "\n",
    "        x = self.conv_1(inputs)\n",
    "        x = self.bn_1(x)\n",
    "        x = tf.nn.relu(x)\n",
    "        x = self.conv_2(x)\n",
    "        x = self.bn_2(x)\n",
    "\n",
    "        if self.__down_sample:\n",
    "            res = self.res_conv(res)\n",
    "            res = self.res_bn(res)\n",
    "\n",
    "        # if not perform down sample, then add a shortcut directly\n",
    "        x = self.merge([x, res])\n",
    "        out = tf.nn.relu(x)\n",
    "        return out\n",
    "\n",
    "\n",
    "class ResNet18(Model):\n",
    "\n",
    "    def __init__(self, num_classes, **kwargs):\n",
    "        \"\"\"\n",
    "            num_classes: number of classes in specific classification task.\n",
    "        \"\"\"\n",
    "        super().__init__(**kwargs)\n",
    "        self.conv_1 = Conv1D(64, (7), strides=2,\n",
    "                             padding=\"same\", kernel_initializer=\"he_normal\", input_shape = x_tr[0].shape)\n",
    "        self.init_bn = BatchNormalization()\n",
    "        self.pool_2 = MaxPooling1D(pool_size=(2), strides=2, padding=\"same\")\n",
    "        self.res_1_1 = ResnetBlock(64)\n",
    "        self.res_1_2 = ResnetBlock(64)\n",
    "        self.res_2_1 = ResnetBlock(128, down_sample=True)\n",
    "        self.res_2_2 = ResnetBlock(128)\n",
    "        self.res_3_1 = ResnetBlock(256, down_sample=True)\n",
    "        self.res_3_2 = ResnetBlock(256)\n",
    "        self.res_4_1 = ResnetBlock(512, down_sample=True)\n",
    "        self.res_4_2 = ResnetBlock(512)\n",
    "        self.avg_pool = GlobalAveragePooling1D()\n",
    "        self.flat = Flatten()\n",
    "        self.fc = Dense(num_classes, activation=\"softmax\")\n",
    "\n",
    "    def call(self, inputs):\n",
    "        out = self.conv_1(inputs)\n",
    "        out = self.init_bn(out)\n",
    "        out = tf.nn.relu(out)\n",
    "        out = self.pool_2(out)\n",
    "        for res_block in [self.res_1_1, self.res_1_2, self.res_2_1, self.res_2_2, self.res_3_1, self.res_3_2, self.res_4_1, self.res_4_2]:\n",
    "            out = res_block(out)\n",
    "        out = self.avg_pool(out)\n",
    "        out = self.flat(out)\n",
    "        out = self.fc(out)\n",
    "        return out"
   ]
  },
  {
   "cell_type": "code",
   "execution_count": 106,
   "metadata": {},
   "outputs": [],
   "source": [
    "model2 = ResNet18(6)"
   ]
  },
  {
   "cell_type": "code",
   "execution_count": 107,
   "metadata": {},
   "outputs": [],
   "source": [
    "model2.compile(\n",
    "            loss = 'sparse_categorical_crossentropy',\n",
    "            metrics= ['accuracy'],\n",
    "            optimizer= tf.keras.optimizers.Adamax()\n",
    ")"
   ]
  },
  {
   "cell_type": "code",
   "execution_count": null,
   "metadata": {},
   "outputs": [],
   "source": [
    "his2 = model2.fit(\n",
    "        x_tr,y_tr,\n",
    "        epochs= 100,\n",
    "       validation_data= (x_test, y_test)\n",
    "       \n",
    ")"
   ]
  },
  {
   "cell_type": "code",
   "execution_count": null,
   "metadata": {},
   "outputs": [],
   "source": [
    "model2.save('res')"
   ]
  },
  {
   "cell_type": "code",
   "execution_count": 110,
   "metadata": {},
   "outputs": [
    {
     "name": "stdout",
     "output_type": "stream",
     "text": [
      "51/51 [==============================] - 2s 25ms/step\n"
     ]
    }
   ],
   "source": [
    "pred_cust = model.predict(x_test)"
   ]
  },
  {
   "cell_type": "code",
   "execution_count": null,
   "metadata": {},
   "outputs": [],
   "source": [
    "\n",
    "preds_c = tf.nn.softmax(pred_cust)\n",
    "pred_vgg = tf.nn.softmax(model1.predict(x_test))\n",
    "pred_res = tf.nn.softmax(model2.predict(x_test))"
   ]
  },
  {
   "cell_type": "code",
   "execution_count": 115,
   "metadata": {},
   "outputs": [],
   "source": [
    "pred_lbl = []\n",
    "for i in range (0, len(preds_c)):\n",
    "    pred_lbl.append(np.argmax(pred_cust[i]))"
   ]
  },
  {
   "cell_type": "code",
   "execution_count": 116,
   "metadata": {},
   "outputs": [],
   "source": [
    "pred_lbl = np.array(pred_lbl).reshape(-1)"
   ]
  },
  {
   "cell_type": "code",
   "execution_count": 120,
   "metadata": {},
   "outputs": [
    {
     "name": "stdout",
     "output_type": "stream",
     "text": [
      "51/51 [==============================] - 0s 3ms/step\n"
     ]
    }
   ],
   "source": [
    "pred_lbl_1 = []\n",
    "for i in range (0, len(model1.predict(x_test))):\n",
    "    pred_lbl_1.append(np.argmax(pred_vgg[i]))"
   ]
  },
  {
   "cell_type": "code",
   "execution_count": 121,
   "metadata": {},
   "outputs": [],
   "source": [
    "pred_lbl_1 = np.array(pred_lbl_1).reshape(-1)"
   ]
  },
  {
   "cell_type": "code",
   "execution_count": 122,
   "metadata": {},
   "outputs": [],
   "source": [
    "pred_lbl_2 = []\n",
    "for rows in pred_res:\n",
    "    pred_lbl_2.append(np.argmax(rows))\n",
    "pred_lbl_2 = np.array(pred_lbl_2).reshape(-1)"
   ]
  },
  {
   "cell_type": "code",
   "execution_count": 123,
   "metadata": {},
   "outputs": [
    {
     "data": {
      "image/png": "[encoded data removed]",
      "text/plain": [
       "<Figure size 432x288 with 2 Axes>"
      ]
     },
     "metadata": {
      "needs_background": "light"
     },
     "output_type": "display_data"
    }
   ],
   "source": [
    "import matplotlib.pyplot as plt\n",
    "from sklearn.metrics import ConfusionMatrixDisplay\n",
    "ConfusionMatrixDisplay.from_predictions(y_test, pred_lbl)\n",
    "plt.show()"
   ]
  },
  {
   "cell_type": "code",
   "execution_count": 124,
   "metadata": {},
   "outputs": [
    {
     "data": {
      "image/png": "[encoded data removed]",
      "text/plain": [
       "<Figure size 432x288 with 2 Axes>"
      ]
     },
     "metadata": {
      "needs_background": "light"
     },
     "output_type": "display_data"
    }
   ],
   "source": [
    "ConfusionMatrixDisplay.from_predictions(y_test, pred_lbl_1)\n",
    "plt.show()"
   ]
  },
  {
   "cell_type": "code",
   "execution_count": 125,
   "metadata": {},
   "outputs": [
    {
     "data": {
      "image/png": "[encoded data removed]",
      "text/plain": [
       "<Figure size 432x288 with 2 Axes>"
      ]
     },
     "metadata": {
      "needs_background": "light"
     },
     "output_type": "display_data"
    }
   ],
   "source": [
    "ConfusionMatrixDisplay.from_predictions(y_test, pred_lbl_2)\n",
    "plt.show()"
   ]
  },
  {
   "cell_type": "code",
   "execution_count": null,
   "metadata": {},
   "outputs": [],
   "source": [
    "from sklearn.metrics import accuracy_score\n",
    "print(accuracy_score(y_test, pred_lbl))\n",
    "print(accuracy_score(y_test, pred_lbl_1))\n",
    "print(accuracy_score(y_test, pred_lbl_2))"
   ]
  },
  {
   "cell_type": "code",
   "execution_count": 168,
   "metadata": {},
   "outputs": [
    {
     "data": {
      "image/png": "[encoded data removed]",
      "text/plain": [
       "<Figure size 432x288 with 1 Axes>"
      ]
     },
     "metadata": {
      "needs_background": "light"
     },
     "output_type": "display_data"
    }
   ],
   "source": [
    "loss_train = his2.history['loss']\n",
    "loss_val = his.history['val_loss']\n",
    "epochs = range(1,101)\n",
    "plt.plot(epochs, loss_train, 'g',label= 'Training Loss' )\n",
    "plt.plot(epochs, loss_val, 'b', label= 'validation loss')\n",
    "plt.ylabel('loss')\n",
    "plt.xlabel('epoch')\n",
    "plt.legend()\n",
    "plt.show()"
   ]
  },
  {
   "cell_type": "code",
   "execution_count": 170,
   "metadata": {},
   "outputs": [
    {
     "data": {
      "image/png": "[encoded data removed]",
      "text/plain": [
       "<Figure size 432x288 with 1 Axes>"
      ]
     },
     "metadata": {
      "needs_background": "light"
     },
     "output_type": "display_data"
    }
   ],
   "source": [
    "acc_train = his2.history['accuracy']\n",
    "acc_val = his1.history['val_accuracy']\n",
    "epochs = range(1,101)\n",
    "plt.plot(epochs, acc_train, 'g',label= 'Training accuracy' )\n",
    "plt.plot(epochs, acc_val, 'b', label= 'validation accuracy')\n",
    "plt.ylabel('accuracy')\n",
    "plt.xlabel('epoch')\n",
    "plt.legend()\n",
    "plt.show()"
   ]
  },
  {
   "cell_type": "code",
   "execution_count": 131,
   "metadata": {},
   "outputs": [],
   "source": [
    "from sklearn.metrics import accuracy_score"
   ]
  },
  {
   "cell_type": "markdown",
   "metadata": {},
   "source": [
    "WEIGHTED MEAN"
   ]
  },
  {
   "cell_type": "code",
   "execution_count": null,
   "metadata": {},
   "outputs": [],
   "source": [
    "\n",
    "pred_1 = []\n",
    "pred_2 = []\n",
    "pred_3= []\n",
    "\n",
    "'''preds_c, pred_vgg, pred_res stores the confidence scores of respective models'''\n",
    "\n",
    "for rows in range(0,len(preds_c)): \n",
    "    pred_1.append(np.argmax(preds_c[rows]))\n",
    "for rows_1 in pred_res:\n",
    "    pred_2.append(np.argmax(rows_1))\n",
    "for rows_2 in pred_vgg:\n",
    "    pred_3.append(np.argmax(rows_2))\n",
    "\n",
    "\n",
    "accuracy_1 = accuracy_score(y_test, pred_1)\n",
    "accuracy_2 = accuracy_score(y_test, pred_2)\n",
    "accuracy_3 = accuracy_score(y_test, pred_3)\n",
    "accuracy_1, accuracy_2, accuracy_3"
   ]
  },
  {
   "cell_type": "code",
   "execution_count": 151,
   "metadata": {},
   "outputs": [],
   "source": [
    "acc_model = [accuracy_1, accuracy_2, accuracy_3]\n",
    "weights = np.tanh(acc_model)"
   ]
  },
  {
   "cell_type": "code",
   "execution_count": 152,
   "metadata": {},
   "outputs": [],
   "source": [
    "lent = len(preds_c)\n",
    "col = len(preds_c[0])\n",
    "ens_pred_w = np.empty((1610,6), dtype = object)\n",
    "\n",
    "for i in range (0,lent):\n",
    "    for j in range (0,col):\n",
    "        ens_pred_w[i][j] = (weights[0]*preds_c[i][j] + weights[1]*pred_res[i][j] + weights[2]*pred_vgg[i][j])/np.sum(weights)"
   ]
  },
  {
   "cell_type": "code",
   "execution_count": 153,
   "metadata": {},
   "outputs": [
    {
     "data": {
      "text/plain": [
       "array([[0.12956251204013824, 0.35218739509582525, 0.12956251204013824,\n",
       "        0.12956251204013824, 0.12956251204013824, 0.12956251204013824],\n",
       "       [0.12956251204013824, 0.12956251204013824, 0.12956251204013824,\n",
       "        0.12956251204013824, 0.12956251204013824, 0.35218739509582525],\n",
       "       [0.12957261579351093, 0.12956807656557837, 0.12956824985529797,\n",
       "        0.12956836538177768, 0.12958778345757827, 0.35213487868358323],\n",
       "       ...,\n",
       "       [0.12958162204532622, 0.12956823060088468, 0.12956853867149726,\n",
       "        0.12956850978987733, 0.12957980250327053, 0.35213326131286704],\n",
       "       [0.28016831358207694, 0.12959261144184972, 0.12958007200519614,\n",
       "        0.12958402397352342, 0.20149510054771352, 0.1295799035290799],\n",
       "       [0.1295625216673449, 0.12956251685374157, 0.12956251685374157,\n",
       "        0.12956251685374157, 0.12956251685374157, 0.35218739509582525]],\n",
       "      dtype=object)"
      ]
     },
     "execution_count": 153,
     "metadata": {},
     "output_type": "execute_result"
    }
   ],
   "source": [
    "ens_pred_w"
   ]
  },
  {
   "cell_type": "code",
   "execution_count": 154,
   "metadata": {},
   "outputs": [],
   "source": [
    "ens_lbl_w = []\n",
    "t = []\n",
    "for rows in ens_pred_w:\n",
    "    ens_lbl_w.append(np.argmax(rows))"
   ]
  },
  {
   "cell_type": "code",
   "execution_count": 155,
   "metadata": {},
   "outputs": [
    {
     "data": {
      "text/plain": [
       "0.9782608695652174"
      ]
     },
     "execution_count": 155,
     "metadata": {},
     "output_type": "execute_result"
    }
   ],
   "source": [
    "ens_accuracy = accuracy_score(y_test, ens_lbl_w)\n",
    "ens_accuracy"
   ]
  },
  {
   "cell_type": "code",
   "execution_count": 158,
   "metadata": {},
   "outputs": [
    {
     "data": {
      "image/png": "[encoded data removed]",
      "text/plain": [
       "<Figure size 432x288 with 2 Axes>"
      ]
     },
     "metadata": {
      "needs_background": "light"
     },
     "output_type": "display_data"
    }
   ],
   "source": [
    "ConfusionMatrixDisplay.from_predictions(y_test, ens_lbl_w)\n",
    "plt.show()"
   ]
  }
 ],
 "metadata": {
  "kernelspec": {
   "display_name": "Python 3.10.0 64-bit",
   "language": "python",
   "name": "python3"
  },
  "language_info": {
   "codemirror_mode": {
    "name": "ipython",
    "version": 3
   },
   "file_extension": ".py",
   "mimetype": "text/x-python",
   "name": "python",
   "nbconvert_exporter": "python",
   "pygments_lexer": "ipython3",
   "version": "3.10.5"
  },
  "orig_nbformat": 4,
  "vscode": {
   "interpreter": {
    "hash": "bc46d95eab6ee7e8ca7b86c2d2101b69c796f1ebf481b54aaab7a02360aec505"
   }
  }
 },
 "nbformat": 4,
 "nbformat_minor": 2
}
